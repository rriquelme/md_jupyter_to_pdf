{
 "cells": [
  {
   "cell_type": "markdown",
   "id": "81aefc83-d2eb-4c1b-b340-f234d2a858b3",
   "metadata": {},
   "source": [
    "# Compiler"
   ]
  },
  {
   "cell_type": "raw",
   "id": "dc9160ca-5b66-4cf6-85b2-24ebc3436aee",
   "metadata": {},
   "source": [
    "!jupyter nbconvert main.ipynb --to pdf"
   ]
  },
  {
   "cell_type": "markdown",
   "id": "0ef176e0-ba4e-4b16-be09-3256da3b63aa",
   "metadata": {},
   "source": [
    "# Compiler with Template:"
   ]
  },
  {
   "cell_type": "raw",
   "id": "1f10085b-4574-47a1-ac14-642a0c1edb23",
   "metadata": {},
   "source": [
    "!jupyter nbconvert notebook.ipynb --to pdf --template my_custom_template.tex"
   ]
  },
  {
   "cell_type": "markdown",
   "id": "0c3f56f0-5e67-4c0e-bec6-897e49b8a957",
   "metadata": {},
   "source": [
    "# How to run it:"
   ]
  },
  {
   "cell_type": "raw",
   "id": "b92146e6-e0cf-4ac5-a528-d7529dd3b51d",
   "metadata": {},
   "source": [
    "docker run -p 8888:8888 -v \"C:\\Users\\rers9\\OneDrive\\Escritorio\\GIT\\jupyter-latex\\src:/home/jupyter\" --name jupyter-latex-container jupyter-latex"
   ]
  }
 ],
 "metadata": {
  "kernelspec": {
   "display_name": "Python 3 (ipykernel)",
   "language": "python",
   "name": "python3"
  },
  "language_info": {
   "codemirror_mode": {
    "name": "ipython",
    "version": 3
   },
   "file_extension": ".py",
   "mimetype": "text/x-python",
   "name": "python",
   "nbconvert_exporter": "python",
   "pygments_lexer": "ipython3",
   "version": "3.11.11"
  }
 },
 "nbformat": 4,
 "nbformat_minor": 5
}
